{
 "cells": [
  {
   "cell_type": "code",
   "execution_count": 1,
   "id": "a0070ae0-64b6-443e-aaee-2b31b49ae345",
   "metadata": {},
   "outputs": [],
   "source": [
    "import sys\n",
    "sys.path.insert(0, '../src')\n",
    "\n",
    "import pickle\n",
    "import pandas as pd\n",
    "import numpy as np\n",
    "from sklearn.pipeline import Pipeline\n",
    "#from FinalMerge import MergePipeline\n",
    "from TestCleaning import TestCleaningPipeline\n"
   ]
  },
  {
   "cell_type": "code",
   "execution_count": 2,
   "id": "a92841d0-c562-4702-b33d-68bea7822f3f",
   "metadata": {},
   "outputs": [],
   "source": [
    "application_test = pd.read_csv('../data/application_test.csv')"
   ]
  },
  {
   "cell_type": "code",
   "execution_count": 3,
   "id": "23e9c4a6-9334-49a1-92d2-27a11c3f608d",
   "metadata": {},
   "outputs": [],
   "source": [
    "# Charger les données à partir du fichier pickle\n",
    "with open('../data/utils_data1.pkl', 'rb') as file:\n",
    "    loaded_data = pickle.load(file)\n",
    "\n",
    "# Accéder aux données individuelles à partir du dictionnaire chargé\n",
    "day_columns = loaded_data['day_columns']\n",
    "non_binary_vars = loaded_data['non_binary_vars']\n",
    "large_continuous_variables = loaded_data['large_continuous_variables']\n",
    "normalization_stats = loaded_data['normalization_stats']\n",
    "#all_train_cleaned_ordered_variables = loaded_data['all_train_cleaned_ordered_variables']\n",
    "stats_train = loaded_data['stats_df']\n",
    "train_numeric_columns_excluding_target = loaded_data['num_cols_without_target']\n",
    "train_filtered_columns_excluding_target = loaded_data['columns_without_target']\n"
   ]
  },
  {
   "cell_type": "code",
   "execution_count": 4,
   "id": "c4843c96-8824-4f25-b479-6f4b3f62ffb3",
   "metadata": {},
   "outputs": [],
   "source": [
    "# Configuration du pipeline global\n",
    "full_test_pipeline = Pipeline(steps=[  \n",
    "    ('feature_selection', TestCleaningPipeline(day_columns=day_columns,\n",
    "    large_continuous_variables=large_continuous_variables,\n",
    "    non_binary_vars=non_binary_vars,\n",
    "    normalization_stats=normalization_stats,\n",
    "    num_std=3,\n",
    "    small_value=1e-6,\n",
    "    stats_train=stats_train,\n",
    "    train_numeric_columns=train_numeric_columns_excluding_target,\n",
    "    train_filtered_columns=train_filtered_columns_excluding_target))\n",
    "])\n",
    "\n",
    "# Exécution du pipeline sur les données d'entraînement\n",
    "test_cleaned = full_test_pipeline.fit_transform(application_test)"
   ]
  },
  {
   "cell_type": "code",
   "execution_count": 5,
   "id": "d18244e2-e6f7-4a4d-909b-ab14f15a726c",
   "metadata": {},
   "outputs": [
    {
     "data": {
      "text/plain": [
       "(48744, 92)"
      ]
     },
     "execution_count": 5,
     "metadata": {},
     "output_type": "execute_result"
    }
   ],
   "source": [
    "test_cleaned.shape"
   ]
  },
  {
   "cell_type": "code",
   "execution_count": 6,
   "id": "07283ea6-66a6-4448-8d2c-56c93a7048b9",
   "metadata": {},
   "outputs": [
    {
     "data": {
      "text/plain": [
       "True"
      ]
     },
     "execution_count": 6,
     "metadata": {},
     "output_type": "execute_result"
    }
   ],
   "source": [
    "'SK_ID_CURR' in test_cleaned.columns"
   ]
  },
  {
   "cell_type": "code",
   "execution_count": 7,
   "id": "243b1acc-4da4-431c-a854-34d88143f8ce",
   "metadata": {},
   "outputs": [],
   "source": [
    "test_cleaned.to_csv('../API/test_cleaned1.csv', index=False)"
   ]
  },
  {
   "cell_type": "code",
   "execution_count": 8,
   "id": "7890b4e2-d304-4bbf-aa30-afe3a83d5a62",
   "metadata": {},
   "outputs": [],
   "source": [
    "test_cleaned.to_csv('../data/test_cleaned1.csv', index=False)"
   ]
  },
  {
   "cell_type": "code",
   "execution_count": 9,
   "id": "11fb4aa2-150b-410a-ac08-1e6947b77d99",
   "metadata": {},
   "outputs": [],
   "source": [
    "train_cleaned=pd.read_csv('../data/train_cleaned1.csv')"
   ]
  },
  {
   "cell_type": "code",
   "execution_count": 10,
   "id": "07d01966-f32a-40b8-b74f-ee16045c88cd",
   "metadata": {},
   "outputs": [
    {
     "data": {
      "text/plain": [
       "(307511, 93)"
      ]
     },
     "execution_count": 10,
     "metadata": {},
     "output_type": "execute_result"
    }
   ],
   "source": [
    "train_cleaned.shape"
   ]
  },
  {
   "cell_type": "code",
   "execution_count": 11,
   "id": "821a2606-50ad-4459-b764-eb8b7298faa2",
   "metadata": {},
   "outputs": [],
   "source": [
    "import pandas as pd\n",
    "\n",
    "def comparer_colonnes_df(df1: pd.DataFrame, df2: pd.DataFrame):\n",
    "    \"\"\"\n",
    "    Compare les colonnes de deux DataFrames et identifie les différences.\n",
    "\n",
    "    :param df1: Premier DataFrame pour la comparaison.\n",
    "    :param df2: Second DataFrame pour la comparaison.\n",
    "    :return: Deux ensembles contenant les noms des colonnes uniques à chaque DataFrame.\n",
    "    \"\"\"\n",
    "    # Obtenir les noms des colonnes sous forme d'ensembles\n",
    "    cols_df1 = set(df1.columns)\n",
    "    cols_df2 = set(df2.columns)\n",
    "\n",
    "    # Trouver les différences\n",
    "    unique_to_df1 = cols_df1 - cols_df2\n",
    "    unique_to_df2 = cols_df2 - cols_df1\n",
    "\n",
    "    return unique_to_df1, unique_to_df2\n",
    "\n"
   ]
  },
  {
   "cell_type": "code",
   "execution_count": 12,
   "id": "baa0d3ac-8417-4d97-a975-3f1e1acad3dd",
   "metadata": {},
   "outputs": [
    {
     "data": {
      "text/plain": [
       "(set(), {'TARGET'})"
      ]
     },
     "execution_count": 12,
     "metadata": {},
     "output_type": "execute_result"
    }
   ],
   "source": [
    "comparer_colonnes_df(test_cleaned, train_cleaned)"
   ]
  },
  {
   "cell_type": "code",
   "execution_count": null,
   "id": "87f0ac31-e44f-41b5-a217-dea2bca18366",
   "metadata": {},
   "outputs": [],
   "source": []
  }
 ],
 "metadata": {
  "kernelspec": {
   "display_name": "Python 3 (ipykernel)",
   "language": "python",
   "name": "python3"
  },
  "language_info": {
   "codemirror_mode": {
    "name": "ipython",
    "version": 3
   },
   "file_extension": ".py",
   "mimetype": "text/x-python",
   "name": "python",
   "nbconvert_exporter": "python",
   "pygments_lexer": "ipython3",
   "version": "3.11.4"
  }
 },
 "nbformat": 4,
 "nbformat_minor": 5
}
