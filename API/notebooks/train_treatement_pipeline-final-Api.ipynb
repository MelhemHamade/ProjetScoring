{
 "cells": [
  {
   "cell_type": "code",
   "execution_count": 1,
   "id": "b2149892-214a-4a51-8dca-a8aac49bb8d9",
   "metadata": {},
   "outputs": [],
   "source": [
    "import pandas as pd\n",
    "from sklearn.pipeline import Pipeline\n",
    "import pickle\n",
    "\n",
    "# Ajout du dossier src au sys.path\n",
    "import sys\n",
    "sys.path.insert(0, '../src')\n",
    "# Importation de MergePipeline de FinalMerge.py\n",
    "from TrainReductionPipeline import FeatureSelectionPipeline\n",
    "# Importation de TrainCleaningPipeline de TrainCleaning.py\n",
    "from TrainCleaning import TrainCleaningPipeline"
   ]
  },
  {
   "cell_type": "code",
   "execution_count": 2,
   "id": "9eb0d676-f125-4f9d-8047-4878b9285300",
   "metadata": {},
   "outputs": [],
   "source": [
    "# Chargement des données\n",
    "application_train = pd.read_csv('../data/application_train.csv')"
   ]
  },
  {
   "cell_type": "code",
   "execution_count": 3,
   "id": "1a18455b-b4b8-4930-8c15-0128d65fb718",
   "metadata": {},
   "outputs": [
    {
     "name": "stdout",
     "output_type": "stream",
     "text": [
      "0.7482498696657066\n",
      "0.7469189731567537\n"
     ]
    }
   ],
   "source": [
    "# Configuration du pipeline global\n",
    "full_pipeline = Pipeline(steps=[  \n",
    "    ('feature_selection', FeatureSelectionPipeline(target='TARGET', threshold_correlation=0.8, threshold_importance=0.005, num_folds=5)), \n",
    "    ('cleaning', TrainCleaningPipeline()) \n",
    "])\n",
    "\n",
    "# Exécution du pipeline sur les données d'entraînement\n",
    "train_cleaned = full_pipeline.fit_transform(application_train)"
   ]
  },
  {
   "cell_type": "code",
   "execution_count": 4,
   "id": "258618b9-7a78-4dbe-90a1-1c72a15c3685",
   "metadata": {},
   "outputs": [
    {
     "data": {
      "text/plain": [
       "(307511, 93)"
      ]
     },
     "execution_count": 4,
     "metadata": {},
     "output_type": "execute_result"
    }
   ],
   "source": [
    "train_cleaned.shape"
   ]
  },
  {
   "cell_type": "code",
   "execution_count": 5,
   "id": "80a6626d-3a2a-4b68-ab6b-22ed0652de75",
   "metadata": {},
   "outputs": [],
   "source": [
    "import pickle\n",
    "\n",
    "# Récupérer des résultats intermédiaires.\n",
    "\n",
    "stats_df = full_pipeline.named_steps['feature_selection'].get_stats_df()\n",
    "importance_df = full_pipeline.named_steps['feature_selection'].get_importance_df()\n",
    "num_cols_without_target = full_pipeline.named_steps['feature_selection'].get_num_cols_without_target()\n",
    "columns_without_target = full_pipeline.named_steps['feature_selection'].get_columns_without_target()\n",
    "\n",
    "# # Récupérer des résultats terminaux\n",
    "normalization_stats = full_pipeline.named_steps['cleaning'].get_normalization_stats()\n",
    "non_binary_vars=full_pipeline.named_steps['cleaning'].get_non_binary_vars()\n",
    "large_continuous_variables = full_pipeline.named_steps['cleaning'].get_large_continuous_variables()\n",
    "day_columns = full_pipeline.named_steps['cleaning'].get_day_columns()\n",
    "#cleaned_ordered_variables=train_cleaned.columns.tolist()\n",
    "\n",
    "# Regroupement des entités dans un dictionnaire\n",
    "data_to_save = {\n",
    "    \n",
    "    'stats_df': stats_df,\n",
    "    'importance_df': importance_df,\n",
    "    'day_columns': day_columns,\n",
    "    'non_binary_vars': non_binary_vars,\n",
    "    'large_continuous_variables': large_continuous_variables,\n",
    "    'normalization_stats': normalization_stats,\n",
    "    'columns_without_target': columns_without_target,\n",
    "    'num_cols_without_target': num_cols_without_target \n",
    "}\n",
    "\n",
    "# Sauvegarde du dictionnaire dans un fichier pickle\n",
    "with open('../data/utils_data1.pkl', 'wb') as file:\n",
    "    pickle.dump(data_to_save, file)"
   ]
  },
  {
   "cell_type": "code",
   "execution_count": 6,
   "id": "185f591c-4f55-41a1-a8a2-f77dd022e5ba",
   "metadata": {},
   "outputs": [
    {
     "data": {
      "text/plain": [
       "92"
      ]
     },
     "execution_count": 6,
     "metadata": {},
     "output_type": "execute_result"
    }
   ],
   "source": [
    "len(columns_without_target)"
   ]
  },
  {
   "cell_type": "code",
   "execution_count": 7,
   "id": "ac1d078b-093b-481e-9f93-f76c9b08d1c3",
   "metadata": {},
   "outputs": [],
   "source": [
    "train_cleaned.to_csv('../Api/train_cleaned1.csv', index=False)"
   ]
  },
  {
   "cell_type": "code",
   "execution_count": 8,
   "id": "259678a3-4c16-41d0-a29c-993ee819ca39",
   "metadata": {},
   "outputs": [
    {
     "data": {
      "text/plain": [
       "(307511, 93)"
      ]
     },
     "execution_count": 8,
     "metadata": {},
     "output_type": "execute_result"
    }
   ],
   "source": [
    "train_cleaned.shape"
   ]
  },
  {
   "cell_type": "code",
   "execution_count": null,
   "id": "4f703095-010d-4fd5-b9b1-938cfddcb0ad",
   "metadata": {},
   "outputs": [],
   "source": []
  }
 ],
 "metadata": {
  "kernelspec": {
   "display_name": "Python 3 (ipykernel)",
   "language": "python",
   "name": "python3"
  },
  "language_info": {
   "codemirror_mode": {
    "name": "ipython",
    "version": 3
   },
   "file_extension": ".py",
   "mimetype": "text/x-python",
   "name": "python",
   "nbconvert_exporter": "python",
   "pygments_lexer": "ipython3",
   "version": "3.11.4"
  }
 },
 "nbformat": 4,
 "nbformat_minor": 5
}
